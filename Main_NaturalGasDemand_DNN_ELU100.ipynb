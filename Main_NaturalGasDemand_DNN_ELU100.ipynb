{
 "cells": [
  {
   "cell_type": "code",
   "execution_count": null,
   "id": "7d8c1f79",
   "metadata": {
    "scrolled": true
   },
   "outputs": [],
   "source": [
    "!pip install tensorflow"
   ]
  },
  {
   "cell_type": "code",
   "execution_count": null,
   "id": "29701a6c",
   "metadata": {
    "scrolled": true
   },
   "outputs": [],
   "source": [
    "pip install keras-tuner"
   ]
  },
  {
   "cell_type": "code",
   "execution_count": null,
   "id": "41373f45",
   "metadata": {},
   "outputs": [],
   "source": [
    "import pandas as pd\n",
    "from tensorflow.keras.models import Sequential\n",
    "from tensorflow.keras.layers import Dense, LSTM\n",
    "from sklearn.model_selection import train_test_split\n",
    "from sklearn.preprocessing import StandardScaler\n",
    "from tensorflow.keras.layers import Input, Dense\n",
    "from tensorflow.keras.optimizers import Adam\n",
    "from keras_tuner import HyperModel, RandomSearch\n",
    "from sklearn.model_selection import train_test_split\n",
    "from sklearn.preprocessing import MinMaxScaler"
   ]
  },
  {
   "cell_type": "code",
   "execution_count": null,
   "id": "15da977c",
   "metadata": {
    "scrolled": true
   },
   "outputs": [],
   "source": [
    "data = pd.read_excel(\"NaturalGasDemand_Input.xlsx\")\n",
    "data"
   ]
  },
  {
   "cell_type": "code",
   "execution_count": null,
   "id": "da99dedb-1c72-48e1-b15c-f81256821920",
   "metadata": {},
   "outputs": [],
   "source": [
    "X = data.drop(columns=[\"India total Consumption of Natural Gas (in BCM)\",\"Month\"]) # independent variables\n",
    "y = data[\"India total Consumption of Natural Gas (in BCM)\"]  # dependent variable\n",
    "dates=data[\"Month\"]\n"
   ]
  },
  {
   "cell_type": "code",
   "execution_count": null,
   "id": "982118b5-3e3d-40b3-947d-532af887d5ad",
   "metadata": {},
   "outputs": [],
   "source": [
    "X_train, X_test, y_train, y_test, dates_train, dates_test = train_test_split(X, y, dates, test_size=0.2,random_state=42)"
   ]
  },
  {
   "cell_type": "code",
   "execution_count": null,
   "id": "54a44217-f2e1-45c1-b720-bb128339fb88",
   "metadata": {},
   "outputs": [],
   "source": [
    "scaler = MinMaxScaler(feature_range=(-1, 1))\n",
    "X_train_scaled = scaler.fit_transform(X_train)\n",
    "X_test_scaled = scaler.transform(X_test)"
   ]
  },
  {
   "cell_type": "code",
   "execution_count": null,
   "id": "2862afe6-3fc8-4709-8fe5-ef7ed5800adf",
   "metadata": {},
   "outputs": [],
   "source": [
    "# Step 6: Build the neural network model\n",
    "# Function to build a model (used for hyperparameter tuning)\n",
    "def build_model(hp):\n",
    "    model = Sequential()\n",
    "    # Add input layer\n",
    "    model.add(Dense(hp.Int('units_input', min_value=32, max_value=512, step=32),\n",
    "                    activation='elu', input_dim=X_train_scaled.shape[1]))\n",
    "    # Add hidden layers (tunable number of layers)\n",
    "    for i in range(hp.Int('num_layers', 1, 50)):\n",
    "        model.add(Dense(hp.Int(f'units_{i}', min_value=32, max_value=512, step=32),\n",
    "                        activation='elu'))\n",
    "    \n",
    "    model.add(Dense(1))\n",
    "    # Compile the model\n",
    "    model.compile(optimizer='adam', loss='mean_absolute_error')\n",
    "    return model"
   ]
  },
  {
   "cell_type": "code",
   "execution_count": null,
   "id": "bd485b60-9655-458f-8977-288d6f8fddcd",
   "metadata": {},
   "outputs": [],
   "source": [
    "# Step 7: Hyperparameter tuning using Keras Tuner\n",
    "tuner = RandomSearch(\n",
    "    build_model,\n",
    "    objective='val_loss',\n",
    "    max_trials=10,\n",
    "    executions_per_trial=10,\n",
    "    directory='NaturalGasDemand_DNN_Fundamental_June2025_50ELU1',\n",
    "    project_name='Proj_NaturalGasDemand_DNN_Fundamental_June2025_50ELU1')"
   ]
  },
  {
   "cell_type": "code",
   "execution_count": null,
   "id": "30f89218-cb73-45e4-b68c-14e55a6ee3f3",
   "metadata": {
    "scrolled": true
   },
   "outputs": [],
   "source": [
    "tuner.search(X_train, y_train, epochs=100, validation_split=0.1)"
   ]
  },
  {
   "cell_type": "code",
   "execution_count": null,
   "id": "0a89880a-ddcb-42cb-b681-2de106679574",
   "metadata": {},
   "outputs": [],
   "source": [
    "best_hps = tuner.get_best_hyperparameters()[0]"
   ]
  },
  {
   "cell_type": "code",
   "execution_count": null,
   "id": "dc1a7ad0",
   "metadata": {
    "scrolled": true
   },
   "outputs": [],
   "source": [
    "tuner.search_space_summary()"
   ]
  },
  {
   "cell_type": "code",
   "execution_count": null,
   "id": "09196ad6",
   "metadata": {},
   "outputs": [],
   "source": [
    "# Build the model with the optimal hyperparameters\n",
    "model = tuner.hypermodel.build(best_hps)\n"
   ]
  },
  {
   "cell_type": "code",
   "execution_count": null,
   "id": "e4c0bba1",
   "metadata": {
    "scrolled": true
   },
   "outputs": [],
   "source": [
    "# Train the model\n",
    "model.fit(X_train_scaled, y_train, epochs=100, validation_split=0.1)\n"
   ]
  },
  {
   "cell_type": "code",
   "execution_count": null,
   "id": "0657e0d0",
   "metadata": {},
   "outputs": [],
   "source": [
    "model.summary()"
   ]
  },
  {
   "cell_type": "code",
   "execution_count": null,
   "id": "e9c8db11",
   "metadata": {},
   "outputs": [],
   "source": [
    "# Evaluate the model on the test set\n",
    "test_loss = model.evaluate(X_test_scaled, y_test)\n",
    "print(f'Test loss: {test_loss}')"
   ]
  },
  {
   "cell_type": "code",
   "execution_count": null,
   "id": "b2b73f3a",
   "metadata": {},
   "outputs": [],
   "source": [
    "y_pred_train = model.predict(X_train_scaled)\n",
    "y_pred_test = model.predict(X_test_scaled)\n",
    "\n",
    "from sklearn.metrics import mean_squared_error, mean_absolute_error\n",
    "# Calculate mean squared error\n",
    "mae_train = mean_absolute_error(y_train, y_pred_train)\n",
    "mae_test = mean_absolute_error(y_test, y_pred_test)\n",
    "print(f'MAE on Training Data: {mae_train}')\n",
    "print(f'MAE on Test Data: {mae_test}')"
   ]
  },
  {
   "cell_type": "raw",
   "id": "1bbce07f-c427-412f-9f86-9d0b913cf71c",
   "metadata": {},
   "source": []
  },
  {
   "cell_type": "code",
   "execution_count": null,
   "id": "0e6885d3",
   "metadata": {},
   "outputs": [],
   "source": [
    "# Plotting y_test vs y_pred\n",
    "import matplotlib.pyplot as plt\n",
    "\n",
    "plt.figure(figsize=(8, 6))\n",
    "plt.plot(range(len(y_train)), y_train, color='black', alpha=0.5, label='Data Points')\n",
    "plt.plot(range(len(y_pred_train)), y_pred_train, color='red', alpha=0.5, label='Data Points')\n",
    "#plt.plot([y_test.min(), y_test.max()], [y_test.min(), y_test.max()], 'k--', lw=2, label='Ideal Fit')  # Diagonal line\n",
    "plt.xlabel('Actual')\n",
    "plt.ylabel('Predicted')\n",
    "plt.title('Actual vs Predicted ICE Raw Sugar Prices')\n",
    "plt.legend()\n",
    "plt.show()"
   ]
  },
  {
   "cell_type": "code",
   "execution_count": null,
   "id": "414cf61f",
   "metadata": {
    "scrolled": true
   },
   "outputs": [],
   "source": [
    "# Predict using the model\n",
    "predictions = model.predict(X_test_scaled)\n",
    "print(predictions)\n",
    "print(y_test)"
   ]
  },
  {
   "cell_type": "code",
   "execution_count": null,
   "id": "bbcf09f8",
   "metadata": {},
   "outputs": [],
   "source": [
    "import matplotlib.pyplot as plt\n",
    "\n",
    "# Plotting y_test vs y_pred\n",
    "plt.figure(figsize=(8, 6))\n",
    "plt.plot(range(len(y_test)), y_test, color='black', alpha=0.5, label='Actual')\n",
    "plt.plot(range(len(predictions)), predictions, color='red', alpha=0.5, label='Predictions')\n",
    "plt.xlabel('Range')\n",
    "plt.ylabel('Price')\n",
    "plt.title('Actual vs Predicted ICE Raw Sugar Prices')\n",
    "plt.legend()\n",
    "plt.show()"
   ]
  },
  {
   "cell_type": "code",
   "execution_count": null,
   "id": "3a0be723-bc95-473a-896b-799ba64e4e2e",
   "metadata": {},
   "outputs": [],
   "source": [
    "train_results = pd.DataFrame({'Date': dates_train, 'Actual': y_train, 'Predicted': y_pred_train.flatten()})\n",
    "test_results = pd.DataFrame({'Date': dates_test, 'Actual': y_test, 'Predicted': y_pred_test.flatten()})\n",
    "\n",
    "train_results.to_excel('June25_NaturalGasDemand_ELU50_train_predictions.xlsx', index=False)\n",
    "test_results.to_excel('June25_NaturalGasDemand_ELU50_test_predictions.xlsx', index=False)"
   ]
  },
  {
   "cell_type": "code",
   "execution_count": null,
   "id": "88b711ef",
   "metadata": {},
   "outputs": [],
   "source": [
    "future_data = pd.read_excel(\"NaturalGasDemand_Future_Input.xlsx\") \n"
   ]
  },
  {
   "cell_type": "code",
   "execution_count": null,
   "id": "303d57c4-05bd-463b-9c76-b486f68de2e3",
   "metadata": {},
   "outputs": [],
   "source": [
    "# Normalize the future data using the same scaler fitted on X_train\n",
    "X_future = scaler.transform(future_data)"
   ]
  },
  {
   "cell_type": "code",
   "execution_count": null,
   "id": "3b11ed9f",
   "metadata": {},
   "outputs": [],
   "source": [
    "# Preprocess future data\n",
    "\n",
    "X_future"
   ]
  },
  {
   "cell_type": "code",
   "execution_count": null,
   "id": "c78842c7",
   "metadata": {},
   "outputs": [],
   "source": [
    "# Make predictions\n",
    "future_predictions = model.predict(X_future)\n"
   ]
  },
  {
   "cell_type": "code",
   "execution_count": null,
   "id": "466a8685",
   "metadata": {},
   "outputs": [],
   "source": [
    "#future_predictions"
   ]
  },
  {
   "cell_type": "code",
   "execution_count": null,
   "id": "39da27da-3682-4c6f-956e-e490dff40c90",
   "metadata": {},
   "outputs": [],
   "source": [
    "future_predictions = pd.DataFrame(future_predictions)"
   ]
  },
  {
   "cell_type": "code",
   "execution_count": null,
   "id": "823410a2",
   "metadata": {},
   "outputs": [],
   "source": [
    "#future_predictions.to_excel(\"NaturalGasDemand_ELU50_Forecasts.xlsx\")"
   ]
  },
  {
   "cell_type": "code",
   "execution_count": null,
   "id": "7501ceb8-8e6d-42b9-bc85-d8656721728d",
   "metadata": {},
   "outputs": [],
   "source": []
  }
 ],
 "metadata": {
  "kernelspec": {
   "display_name": "Python 3 (ipykernel)",
   "language": "python",
   "name": "python3"
  },
  "language_info": {
   "codemirror_mode": {
    "name": "ipython",
    "version": 3
   },
   "file_extension": ".py",
   "mimetype": "text/x-python",
   "name": "python",
   "nbconvert_exporter": "python",
   "pygments_lexer": "ipython3",
   "version": "3.12.4"
  }
 },
 "nbformat": 4,
 "nbformat_minor": 5
}
